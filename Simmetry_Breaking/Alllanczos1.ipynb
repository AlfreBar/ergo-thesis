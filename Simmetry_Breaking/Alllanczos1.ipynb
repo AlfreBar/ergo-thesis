{
 "cells": [
  {
   "cell_type": "code",
   "execution_count": 43,
   "metadata": {},
   "outputs": [],
   "source": [
    "import numpy as np\n",
    "import matplotlib.pyplot as plt\n",
    "from timeit import default_timer as timer\n",
    "from dmrgwaytorho import *\n",
    "import qutip as q\n",
    "from scipy import integrate,special\n",
    "from scipy.linalg import eig,eigh,eigvals,eigvalsh\n",
    "from scipy.sparse.linalg import eigs\n",
    "import pickle \n",
    "from functions import doApplyHam,isingmodel,diagonalize\n",
    "from functions import isingmodel_zz_x,isingmodel_rev_frac2\n",
    "import qutip as q"
   ]
  },
  {
   "cell_type": "code",
   "execution_count": 44,
   "metadata": {},
   "outputs": [],
   "source": [
    "length=3\n",
    "lambdarange=np.linspace(0.1,1)"
   ]
  },
  {
   "cell_type": "code",
   "execution_count": 45,
   "metadata": {},
   "outputs": [],
   "source": [
    "dict_open0_psis={}\n",
    "\n",
    "for i,l in enumerate(lambdarange):\n",
    "    \n",
    "    Energies,psis=diagonalize(1,length,isingmodel_rev_frac2(l,0.00),True)\n",
    "    \n",
    "    dict_open0_psis[i]=Energies,psis"
   ]
  },
  {
   "cell_type": "code",
   "execution_count": 46,
   "metadata": {},
   "outputs": [
    {
     "name": "stdout",
     "output_type": "stream",
     "text": [
      "[[-5.53709662e-01]\n",
      " [-7.99360578e-14]\n",
      " [-7.99152411e-14]\n",
      " [-4.80765227e-01]\n",
      " [-7.98805466e-14]\n",
      " [-4.80765227e-01]\n",
      " [-4.80765227e-01]\n",
      " [-6.99995617e-14]]\n",
      "[1.]\n"
     ]
    }
   ],
   "source": [
    "psig=dict_open0_psis[2][1]\n",
    "#psig=psig.unit()\n",
    "print(psig)\n",
    "print(sum([i**2 for i in psig]))"
   ]
  },
  {
   "cell_type": "code",
   "execution_count": null,
   "metadata": {
    "scrolled": true
   },
   "outputs": [],
   "source": [
    "envec=[dict_open0_psis[x][0] for x in dict_open0_psis]\n",
    "for l in dict_open0_psis:\n",
    "    psi=dict_open0_psis[l][1]\n",
    "    qpsi=q.Qobj(psi,dims = [[2]*length, [1]*length])\n",
    "    q.plot_fock_distribution(qpsi)"
   ]
  },
  {
   "cell_type": "code",
   "execution_count": null,
   "metadata": {},
   "outputs": [],
   "source": [
    "dictionary_open0={}\n",
    "dictionary_open1={}\n",
    "\n",
    "for l in lambdarange:\n",
    "    \n",
    "    Energies,psis=diagonalize(2,length,isingmodel_rev_frac2(l,0.00),False)\n",
    "    \n",
    "    reshapedpsi0=psis[:,0].reshape(2**int((length-2)/2),4,2**int((length-2)/2)).transpose(1,0,2).reshape(4,-1)\n",
    "    \n",
    "    rhomagn0 = np.dot(reshapedpsi0, reshapedpsi0.conjugate().transpose())\n",
    "    \n",
    "    reshapedpsi1=psis[:,1].reshape(2**int((length-2)/2),4,2**int((length-2)/2)).transpose(1,0,2).reshape(4,-1)\n",
    "    \n",
    "    rhomagn1 = np.dot(reshapedpsi1, reshapedpsi1.conjugate().transpose())\n",
    "    \n",
    "    dictionary_open0[l]=rhomagn0\n",
    "    \n",
    "    dictionary_open1[l]=rhomagn1\n"
   ]
  },
  {
   "cell_type": "code",
   "execution_count": null,
   "metadata": {},
   "outputs": [],
   "source": [
    "rho_effective={}\n",
    "for el in lambdarange:\n",
    "    rho_effective[el]=dictionary_open0[el]\n",
    "    \n",
    "fig, axs = plt.subplots(2, 2,sharex=True,figsize=[12,12])\n",
    "\n",
    "ind=[(x,y) for x in range(2) for y in range(2)]\n",
    "\n",
    "for k in range(4):\n",
    "\n",
    "    specvec= np.zeros_like(lambdarange)\n",
    "    \n",
    "    for i,el in enumerate(lambdarange):\n",
    "        specvec[i]=np.sort(eigvalsh(rho_effective[el]))[k]\n",
    "    \n",
    "    axs[ind[k]].plot(lambdarange,specvec,label=\"exp\")\n",
    "    axs[ind[k]].set_title('d'+str(k))\n",
    "handles, labels = axs[1,1].get_legend_handles_labels()\n",
    "fig.legend(handles, labels, loc='center')\n",
    "fig.suptitle(r\"open h=0\",fontsize=15)\n",
    "axs[1,1].set_xlabel(r\"$\\lambda$\")\n",
    "axs[1,0].set_xlabel(r\"$\\lambda$\")\n",
    "plt.show()    "
   ]
  },
  {
   "cell_type": "code",
   "execution_count": null,
   "metadata": {},
   "outputs": [],
   "source": [
    "dictionary_open0={}\n",
    "dictionary_open1={}\n",
    "\n",
    "for l in lambdarange:\n",
    "    \n",
    "    Energies,psis=diagonalize(2,length,isingmodel_rev_frac2(l,0.00),True)\n",
    "    \n",
    "    reshapedpsi0=psis[:,0].reshape(2**int((length-2)/2),4,2**int((length-2)/2)).transpose(1,0,2).reshape(4,-1)\n",
    "    \n",
    "    rhomagn0 = np.dot(reshapedpsi0, reshapedpsi0.conjugate().transpose())\n",
    "    \n",
    "    reshapedpsi1=psis[:,1].reshape(2**int((length-2)/2),4,2**int((length-2)/2)).transpose(1,0,2).reshape(4,-1)\n",
    "    \n",
    "    rhomagn1 = np.dot(reshapedpsi1, reshapedpsi1.conjugate().transpose())\n",
    "    \n",
    "    dictionary_open0[l]=rhomagn0,Energies,psis\n",
    "    \n",
    "    dictionary_open1[l]=rhomagn1\n"
   ]
  },
  {
   "cell_type": "code",
   "execution_count": null,
   "metadata": {},
   "outputs": [],
   "source": [
    "rho_effective={}\n",
    "for el in lambdarange:\n",
    "    rho_effective[el]=dictionary_open0[el][0]\n",
    "    \n",
    "fig, axs = plt.subplots(2, 2,sharex=True,figsize=[12,12])\n",
    "\n",
    "ind=[(x,y) for x in range(2) for y in range(2)]\n",
    "\n",
    "for k in range(4):\n",
    "\n",
    "    specvec= np.zeros_like(lambdarange)\n",
    "    \n",
    "    for i,el in enumerate(lambdarange):\n",
    "        specvec[i]=np.sort(eigvalsh(rho_effective[el]))[k]\n",
    "    \n",
    "    axs[ind[k]].plot(lambdarange,specvec,label=\"exp\")\n",
    "    axs[ind[k]].set_title('d'+str(k))\n",
    "handles, labels = axs[1,1].get_legend_handles_labels()\n",
    "fig.legend(handles, labels, loc='center')\n",
    "fig.suptitle(r\"periodic h=0\",fontsize=15)\n",
    "axs[1,1].set_xlabel(r\"$\\lambda$\")\n",
    "axs[1,0].set_xlabel(r\"$\\lambda$\")\n",
    "plt.show()    "
   ]
  },
  {
   "cell_type": "code",
   "execution_count": null,
   "metadata": {},
   "outputs": [],
   "source": [
    "for l in lambdarange:\n",
    "    print(dictionary_open0[l][2])"
   ]
  },
  {
   "cell_type": "code",
   "execution_count": null,
   "metadata": {},
   "outputs": [],
   "source": [
    "x=np.linspace(-2,2)\n",
    "a=-2\n",
    "b=1\n",
    "\n",
    "plt.hlines(0,-2,2)\n",
    "plt.plot(x,a*x**2+b*x**4)\n",
    "plt.axis.set_visible(True)\n"
   ]
  },
  {
   "cell_type": "code",
   "execution_count": null,
   "metadata": {},
   "outputs": [],
   "source": []
  }
 ],
 "metadata": {
  "kernelspec": {
   "display_name": "Python 3.7.3 64-bit ('base': conda)",
   "language": "python",
   "name": "python37364bitbaseconda846576d7083d4605ab3a5f3497535834"
  },
  "language_info": {
   "codemirror_mode": {
    "name": "ipython",
    "version": 3
   },
   "file_extension": ".py",
   "mimetype": "text/x-python",
   "name": "python",
   "nbconvert_exporter": "python",
   "pygments_lexer": "ipython3",
   "version": "3.7.9"
  }
 },
 "nbformat": 4,
 "nbformat_minor": 4
}
