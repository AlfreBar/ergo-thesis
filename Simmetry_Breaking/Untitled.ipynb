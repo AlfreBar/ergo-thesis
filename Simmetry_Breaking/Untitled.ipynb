{
 "cells": [
  {
   "cell_type": "code",
   "execution_count": 2,
   "metadata": {},
   "outputs": [],
   "source": [
    "import numpy as np\n",
    "import matplotlib.pyplot as plt\n",
    "from scipy import integrate,special\n",
    "from scipy.linalg import eig,eigh,eigvals,eigvalsh\n",
    "import pickle \n",
    "from functions import doApplyHam,diagonalize,diagonalize_2\n",
    "from functions import isingmodel_zz_x,isingmodel_rev_frac2,isingmodel_zz_x_2\n",
    "import qutip as q"
   ]
  },
  {
   "cell_type": "code",
   "execution_count": 19,
   "metadata": {},
   "outputs": [],
   "source": [
    "length=10\n",
    "lambdarange=np.linspace(0,2)\n",
    "dict_right={}\n",
    "startpsi=np.zeros(2**length)\n",
    "\n",
    "startpsi[0]=1/np.sqrt(2)\n",
    "startpsi[-1]=1/np.sqrt(2)\n",
    "for i,l in enumerate(lambdarange):\n",
    "    \n",
    "    Energies,psis=diagonalize_2(1,length,isingmodel_rev_frac2(l,0.00),True,startpsi)\n",
    "    \n",
    "    reshapedpsi0=psis[:,0].reshape(2**int((length-2)/2),4,2**int((length-2)/2)).transpose(1,0,2).reshape(4,-1)\n",
    "    \n",
    "    rhomagn0 = np.dot(reshapedpsi0, reshapedpsi0.conjugate().transpose())\n",
    "    \n",
    "    dict_right[i]=rhomagn0"
   ]
  },
  {
   "cell_type": "code",
   "execution_count": 21,
   "metadata": {},
   "outputs": [
    {
     "name": "stdout",
     "output_type": "stream",
     "text": [
      "[[0.25 0.   0.   0.25]\n",
      " [0.   0.25 0.25 0.  ]\n",
      " [0.   0.25 0.25 0.  ]\n",
      " [0.25 0.   0.   0.25]]\n"
     ]
    }
   ],
   "source": [
    "print(dict_right[0])"
   ]
  },
  {
   "cell_type": "code",
   "execution_count": null,
   "metadata": {},
   "outputs": [],
   "source": []
  }
 ],
 "metadata": {
  "kernelspec": {
   "display_name": "Python 3.7.3 64-bit ('base': conda)",
   "language": "python",
   "name": "python37364bitbaseconda846576d7083d4605ab3a5f3497535834"
  },
  "language_info": {
   "codemirror_mode": {
    "name": "ipython",
    "version": 3
   },
   "file_extension": ".py",
   "mimetype": "text/x-python",
   "name": "python",
   "nbconvert_exporter": "python",
   "pygments_lexer": "ipython3",
   "version": "3.7.3"
  }
 },
 "nbformat": 4,
 "nbformat_minor": 4
}
