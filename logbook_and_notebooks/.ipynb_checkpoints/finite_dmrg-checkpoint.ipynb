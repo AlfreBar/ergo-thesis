{
 "cells": [
  {
   "cell_type": "code",
   "execution_count": 1,
   "metadata": {},
   "outputs": [],
   "source": [
    "import numpy as np\n",
    "import matplotlib.pyplot as plt\n",
    "from timeit import default_timer as timer\n",
    "from finitedmrgrhomagn import finite_system_algorithm,Block,model_d\n",
    "import qutip as q\n",
    "from scipy import integrate,special\n",
    "from scipy.linalg import eig,eigh,eigvals,eigvalsh\n",
    "from scipy.sparse.linalg import eigs,eigsh\n",
    "from scipy.sparse import kron, identity\n",
    "import pickle \n",
    "from functions import doApplyHam,isingmodel,diagonalize\n",
    "from functions import isingmodel_rev,isingmodel_rev_frac2\n",
    "import numpy as np\n",
    "from permutations import get_dicts, rho_3,g_s,rho_3new,rho_2new\n"
   ]
  },
  {
   "cell_type": "code",
   "execution_count": 4,
   "metadata": {},
   "outputs": [],
   "source": [
    "lambdarange=np.linspace(0.1,2)"
   ]
  },
  {
   "cell_type": "code",
   "execution_count": 8,
   "metadata": {},
   "outputs": [
    {
     "name": "stdout",
     "output_type": "stream",
     "text": [
      "The autoreload extension is already loaded. To reload it, use:\n",
      "  %reload_ext autoreload\n"
     ]
    }
   ],
   "source": [
    "%load_ext autoreload\n",
    "%autoreload\n",
    "\n",
    "dic,perm=get_dicts()\n",
    "\n",
    "g=g_s(lambdarange)\n",
    "\n",
    "rho_dic_theo={}\n",
    "for l in lambdarange:\n",
    "    rho_dic_theo[l]=rho_2new(dic,perm,g,l)\n"
   ]
  },
  {
   "cell_type": "code",
   "execution_count": null,
   "metadata": {},
   "outputs": [
    {
     "name": "stdout",
     "output_type": "stream",
     "text": [
      "=========================**------------------------\n",
      "0.1\n",
      "=========================**------------------------\n",
      "0.16551724137931034\n",
      "=========================**------------------------\n",
      "0.23103448275862068\n",
      "=========================**------------------------\n",
      "0.296551724137931\n",
      "=========================**------------------------\n",
      "0.3620689655172413\n"
     ]
    }
   ],
   "source": [
    "sX = np.array([[0, 1], [1, 0]], dtype='d') \n",
    "rho_dic_exp={}\n",
    "lambdarange=np.linspace(0.1,2,30)\n",
    "def H2(Sx1, Sx2):  # two-site part of H\n",
    "    \n",
    "    return -0.5*(kron(Sx1, Sx2.conjugate().transpose()))\n",
    "\n",
    "for lam in lambdarange:\n",
    "    \n",
    "    H1 = -0.5*lam*np.array([[1, 0], [0, -1]], dtype='d')\n",
    "    \n",
    "    #-h*np.array([[0, 1], [1, 0]], dtype='d') # single-site portion of H \n",
    "\n",
    "    site = Block(length=1, basis_size=model_d, operator_dict={\n",
    "        \"H\": H1,\n",
    "        \"conn_Sx\": sX,\n",
    "        })\n",
    "\n",
    "    rho_dic_exp[lam]=finite_system_algorithm(site,site,H2,L=50, m_warmup=3, m_sweep_list=[10,20,30])\n",
    "\n",
    "    print(lam)\n"
   ]
  },
  {
   "cell_type": "code",
   "execution_count": null,
   "metadata": {},
   "outputs": [],
   "source": [
    "rho_spectra_exp={}\n",
    "for el in lambdarange:\n",
    "    rho_spectra[el]=np.sort(eigvalsh(rho_dic_exp[el]))"
   ]
  }
 ],
 "metadata": {
  "kernelspec": {
   "display_name": "Python 3.7.3 64-bit ('base': conda)",
   "language": "python",
   "name": "python37364bitbaseconda846576d7083d4605ab3a5f3497535834"
  },
  "language_info": {
   "codemirror_mode": {
    "name": "ipython",
    "version": 3
   },
   "file_extension": ".py",
   "mimetype": "text/x-python",
   "name": "python",
   "nbconvert_exporter": "python",
   "pygments_lexer": "ipython3",
   "version": "3.7.3"
  }
 },
 "nbformat": 4,
 "nbformat_minor": 4
}
